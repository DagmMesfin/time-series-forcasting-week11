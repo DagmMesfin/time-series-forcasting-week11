{
 "cells": [
  {
   "cell_type": "code",
   "execution_count": null,
   "id": "ae0e7984",
   "metadata": {},
   "outputs": [],
   "source": [
    "import yfinance as yf\n",
    "import pandas as pd\n",
    "import numpy as np\n",
    "import matplotlib.pyplot as plt\n",
    "import seaborn as sns\n",
    "from statsmodels.tsa.stattools import adfuller"
   ]
  },
  {
   "cell_type": "code",
   "execution_count": null,
   "id": "19413143",
   "metadata": {},
   "outputs": [],
   "source": [
    "tickers = ['TSLA', 'BND', 'SPY']\n",
    "start_date = \"2015-07-01\"\n",
    "end_date = \"2025-07-31\"\n",
    "\n",
    "# Download data for all tickers\n",
    "data = {ticker: yf.download(ticker, start=start_date, end=end_date) for ticker in tickers}\n",
    "\n",
    "# Create DataFrame of Adjusted Close prices\n",
    "adj_close = pd.DataFrame({ticker: df['Adj Close'] for ticker, df in data.items()})"
   ]
  },
  {
   "cell_type": "code",
   "execution_count": null,
   "id": "4ae5fd14",
   "metadata": {},
   "outputs": [],
   "source": [
    "print(\"\\nBasic Statistics:\")\n",
    "print(adj_close.describe())\n",
    "\n",
    "# Missing values check\n",
    "print(\"\\nMissing Values Count:\")\n",
    "print(adj_close.isnull().sum())\n",
    "\n",
    "# Fill missing values (Forward Fill)\n",
    "adj_close = adj_close.fillna(method='ffill')\n",
    "\n",
    "# Daily percentage returns\n",
    "daily_returns = adj_close.pct_change().dropna()"
   ]
  },
  {
   "cell_type": "code",
   "execution_count": null,
   "id": "99e0f0ce",
   "metadata": {},
   "outputs": [],
   "source": [
    "# Adjusted close prices over time\n",
    "plt.figure(figsize=(12, 6))\n",
    "for ticker in tickers:\n",
    "    plt.plot(adj_close.index, adj_close[ticker], label=ticker)\n",
    "plt.title(\"Adjusted Close Prices Over Time\")\n",
    "plt.xlabel(\"Date\")\n",
    "plt.ylabel(\"Price ($)\")\n",
    "plt.legend()\n",
    "plt.grid(True)\n",
    "plt.show()\n",
    "\n",
    "# Daily returns\n",
    "plt.figure(figsize=(12, 6))\n",
    "for ticker in tickers:\n",
    "    plt.plot(daily_returns.index, daily_returns[ticker], label=f\"{ticker} Daily Return\")\n",
    "plt.title(\"Daily Percentage Change\")\n",
    "plt.xlabel(\"Date\")\n",
    "plt.ylabel(\"Daily Return\")\n",
    "plt.legend()\n",
    "plt.grid(True)\n",
    "plt.show()\n"
   ]
  },
  {
   "cell_type": "code",
   "execution_count": null,
   "id": "0cb4bd9c",
   "metadata": {},
   "outputs": [],
   "source": [
    "rolling_volatility = daily_returns.rolling(window=30).std()\n",
    "\n",
    "plt.figure(figsize=(12, 6))\n",
    "for ticker in tickers:\n",
    "    plt.plot(rolling_volatility.index, rolling_volatility[ticker], label=f\"{ticker} 30-day Volatility\")\n",
    "plt.title(\"30-Day Rolling Volatility\")\n",
    "plt.xlabel(\"Date\")\n",
    "plt.ylabel(\"Volatility\")\n",
    "plt.legend()\n",
    "plt.grid(True)\n",
    "plt.show()"
   ]
  },
  {
   "cell_type": "code",
   "execution_count": null,
   "id": "e53a32c7",
   "metadata": {},
   "outputs": [],
   "source": [
    "def adf_test(series, title=''):\n",
    "    print(f\"\\nAugmented Dickey-Fuller Test: {title}\")\n",
    "    result = adfuller(series.dropna())\n",
    "    labels = ['ADF Statistic', 'p-value', '# Lags Used', 'Number of Observations Used']\n",
    "    out = pd.Series(result[0:4], index=labels)\n",
    "    for key, val in result[4].items():\n",
    "        out[f'Critical Value ({key})'] = val\n",
    "    print(out)\n",
    "    if result[1] < 0.05:\n",
    "        print(\"✅ The series is stationary.\")\n",
    "    else:\n",
    "        print(\"❌ The series is NOT stationary.\")\n",
    "\n",
    "for ticker in tickers:\n",
    "    adf_test(adj_close[ticker], title=ticker)"
   ]
  },
  {
   "cell_type": "code",
   "execution_count": null,
   "id": "b1f520b5",
   "metadata": {},
   "outputs": [],
   "source": [
    "VaR_95 = daily_returns.quantile(0.05)\n",
    "sharpe_ratios = (daily_returns.mean() / daily_returns.std()) * np.sqrt(252)\n",
    "\n",
    "summary = pd.DataFrame({\n",
    "    \"VaR_95\": VaR_95,\n",
    "    \"Sharpe Ratio\": sharpe_ratios\n",
    "})\n",
    "\n",
    "print(\"\\nRisk Metrics Summary:\")\n",
    "print(summary)"
   ]
  }
 ],
 "metadata": {
  "kernelspec": {
   "display_name": ".venv",
   "language": "python",
   "name": "python3"
  },
  "language_info": {
   "name": "python",
   "version": "3.12.10"
  }
 },
 "nbformat": 4,
 "nbformat_minor": 5
}
