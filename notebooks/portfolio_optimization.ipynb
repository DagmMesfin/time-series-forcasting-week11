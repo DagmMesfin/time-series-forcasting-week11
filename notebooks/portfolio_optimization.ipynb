{
 "cells": [
  {
   "cell_type": "code",
   "execution_count": 1,
   "id": "b9056b37",
   "metadata": {},
   "outputs": [],
   "source": [
    "import os\n",
    "import json\n",
    "import numpy as np\n",
    "import pandas as pd\n",
    "import yfinance as yf\n",
    "import matplotlib.pyplot as plt\n",
    "from datetime import datetime\n",
    "from pypfopt import EfficientFrontier, risk_models, expected_returns, plotting, DiscreteAllocation, objective_functions"
   ]
  },
  {
   "cell_type": "code",
   "execution_count": 2,
   "id": "41eee4b4",
   "metadata": {},
   "outputs": [],
   "source": [
    "# -------------------------------\n",
    "# Config\n",
    "# -------------------------------\n",
    "MODELS_DIR = os.path.join(\"..\", \"models\")         # same location you used before\n",
    "FORECAST_CSV = os.path.join(MODELS_DIR, \"tsla_lstm_forecast_mc_dropout.csv\")\n",
    "METADATA_FILE = os.path.join(MODELS_DIR, \"tsla_lstm_metadata.json\")\n",
    "\n",
    "TICKER_TSLA = \"TSLA\"\n",
    "TICKERS_OTHER = [\"BND\", \"SPY\"]\n",
    "ALL_TICKERS = [TICKER_TSLA] + TICKERS_OTHER\n",
    "\n",
    "TRADING_DAYS = 252    # used for annualization"
   ]
  },
  {
   "cell_type": "code",
   "execution_count": 6,
   "id": "d0d5c940",
   "metadata": {},
   "outputs": [
    {
     "name": "stdout",
     "output_type": "stream",
     "text": [
      "TSLA expected daily return (from forecast): -0.000252\n",
      "TSLA expected annualized return (from forecast): -6.1590%\n"
     ]
    },
    {
     "name": "stderr",
     "output_type": "stream",
     "text": [
      "C:\\Users\\hp\\AppData\\Local\\Temp\\ipykernel_14680\\1871343030.py:21: FutureWarning: YF.download() has changed argument auto_adjust default to True\n",
      "  hist_full = yf.download(TICKER_TSLA, start=hist_start, end=hist_end, progress=False)\n",
      "C:\\Users\\hp\\AppData\\Local\\Temp\\ipykernel_14680\\1871343030.py:22: FutureWarning: Calling float on a single element Series is deprecated and will raise a TypeError in the future. Use float(ser.iloc[0]) instead\n",
      "  last_hist_price = float(hist_full[\"Close\"].dropna().iloc[-1])\n"
     ]
    }
   ],
   "source": [
    "# -------------------------------\n",
    "# Load metadata & forecast\n",
    "# -------------------------------\n",
    "if not os.path.exists(FORECAST_CSV):\n",
    "    raise FileNotFoundError(f\"Forecast CSV not found at {FORECAST_CSV}. Run Task 3 first.\")\n",
    "\n",
    "with open(METADATA_FILE, \"r\") as f:\n",
    "    metadata = json.load(f)\n",
    "\n",
    "# Historical data range used for training (metadata)\n",
    "hist_start = metadata.get(\"start_date\", \"2015-07-01\")\n",
    "hist_end = metadata.get(\"end_date\", \"2025-07-31\")\n",
    "\n",
    "# Forecasted TSLA mean series\n",
    "forecast_df = pd.read_csv(FORECAST_CSV, parse_dates=[\"date\"], index_col=\"date\")\n",
    "if \"forecast_mean\" not in forecast_df.columns:\n",
    "    raise KeyError(\"forecast_mean column not found in forecast CSV.\")\n",
    "\n",
    "forecast_prices = forecast_df[\"forecast_mean\"].to_numpy().astype(float).ravel()\n",
    "\n",
    "hist_full = yf.download(TICKER_TSLA, start=hist_start, end=hist_end, progress=False)\n",
    "last_hist_price = float(hist_full[\"Close\"].dropna().iloc[-1])\n",
    "\n",
    "# Concatenate as 1-D\n",
    "aug_prices = np.concatenate(([last_hist_price], forecast_prices))  # length = forecast_days + 1\n",
    "forecast_daily_returns = (aug_prices[1:] / aug_prices[:-1]) - 1.0\n",
    "\n",
    "tsla_exp_daily = np.nanmean(forecast_daily_returns)\n",
    "tsla_exp_annual = (1 + tsla_exp_daily) ** TRADING_DAYS - 1\n",
    "\n",
    "print(f\"TSLA expected daily return (from forecast): {tsla_exp_daily:.6f}\")\n",
    "print(f\"TSLA expected annualized return (from forecast): {tsla_exp_annual:.4%}\")"
   ]
  },
  {
   "cell_type": "code",
   "execution_count": 7,
   "id": "a568faf6",
   "metadata": {},
   "outputs": [
    {
     "name": "stderr",
     "output_type": "stream",
     "text": [
      "C:\\Users\\hp\\AppData\\Local\\Temp\\ipykernel_14680\\3211905243.py:5: FutureWarning: YF.download() has changed argument auto_adjust default to True\n",
      "  df_other = yf.download(TICKERS_OTHER, start=hist_start, end=hist_end)[\"Close\"].dropna()\n",
      "[*********************100%***********************]  2 of 2 completed"
     ]
    },
    {
     "name": "stdout",
     "output_type": "stream",
     "text": [
      "Fetching historical data for BND, SPY from 2015-07-01 to 2025-07-31 ...\n"
     ]
    },
    {
     "name": "stderr",
     "output_type": "stream",
     "text": [
      "\n"
     ]
    }
   ],
   "source": [
    "# -------------------------------\n",
    "# Load historical price data for BND and SPY (use same historical window)\n",
    "# -------------------------------\n",
    "print(f\"Fetching historical data for {', '.join(TICKERS_OTHER)} from {hist_start} to {hist_end} ...\")\n",
    "df_other = yf.download(TICKERS_OTHER, start=hist_start, end=hist_end)[\"Close\"].dropna()\n",
    "# compute daily returns\n",
    "returns_other = df_other.pct_change().dropna()\n",
    "# historical expected returns (annualized mean of daily returns)\n",
    "exp_returns_other_annual = (1 + returns_other.mean()) ** TRADING_DAYS - 1\n",
    "# convert to dict-like\n",
    "exp_returns_other_annual = exp_returns_other_annual.to_dict()"
   ]
  },
  {
   "cell_type": "code",
   "execution_count": 9,
   "id": "50d07fcd",
   "metadata": {},
   "outputs": [
    {
     "name": "stdout",
     "output_type": "stream",
     "text": [
      "\n",
      "Expected annual returns (used in optimization):\n",
      "TSLA   -0.061590\n",
      "BND     0.019792\n",
      "SPY     0.155812\n",
      "dtype: float64\n"
     ]
    }
   ],
   "source": [
    "# -------------------------------\n",
    "# Build expected returns vector (annual)\n",
    "# -------------------------------\n",
    "# TSLA from forecast, BND & SPY from historical mean\n",
    "mu_annual = pd.Series({\n",
    "    TICKER_TSLA: tsla_exp_annual,\n",
    "    \"BND\": exp_returns_other_annual.get(\"BND\", 0.0),\n",
    "    \"SPY\": exp_returns_other_annual.get(\"SPY\", 0.0)\n",
    "})\n",
    "\n",
    "print(\"\\nExpected annual returns (used in optimization):\")\n",
    "print(mu_annual.round(6))"
   ]
  },
  {
   "cell_type": "code",
   "execution_count": 12,
   "id": "b851ab44",
   "metadata": {},
   "outputs": [
    {
     "name": "stdout",
     "output_type": "stream",
     "text": [
      "\n",
      "Annualized covariance matrix:\n",
      "Ticker      TSLA       BND       SPY\n",
      "Ticker                              \n",
      "TSLA    0.350331  0.001861  0.052950\n",
      "BND     0.001861  0.003016  0.001150\n",
      "SPY     0.052950  0.001150  0.033272\n"
     ]
    }
   ],
   "source": [
    "# -------------------------------\n",
    "# Build covariance matrix (annualized)\n",
    "# -------------------------------\n",
    "# Use historical daily returns of TSLA,BND,SPY for covariance calculation\n",
    "df_tsla_hist = hist_full[\"Close\"].dropna()\n",
    "returns_tsla_hist = df_tsla_hist.pct_change().dropna()\n",
    "# Set the series name explicitly (avoids rename TypeError)\n",
    "returns_tsla_hist.name = TICKER_TSLA\n",
    "\n",
    "# Ensure other returns columns are plain (yfinance may give MultiIndex)\n",
    "if isinstance(returns_other.columns, pd.MultiIndex):\n",
    "    returns_other.columns = returns_other.columns.get_level_values(-1)\n",
    "\n",
    "# Align returns DataFrame: TSLA, BND, SPY\n",
    "returns_df = pd.concat([returns_tsla_hist, returns_other], axis=1).dropna()\n",
    "\n",
    "# Optional sanity checks\n",
    "# print(\"Returns_df columns:\", returns_df.columns.tolist())\n",
    "# print(\"Any NaNs?\", returns_df.isna().sum().to_dict())\n",
    "\n",
    "# Sample covariance of daily returns, then annualize\n",
    "cov_annual = returns_df.cov() * TRADING_DAYS\n",
    "\n",
    "print(\"\\nAnnualized covariance matrix:\")\n",
    "print(cov_annual.round(6))"
   ]
  },
  {
   "cell_type": "code",
   "execution_count": 14,
   "id": "f727917f",
   "metadata": {},
   "outputs": [],
   "source": [
    "# -------------------------------\n",
    "# Run portfolio optimization (PyPortfolioOpt)\n",
    "# -------------------------------\n",
    "# Note: PyPortfolioOpt expects expected_returns as a pd.Series and cov matrix as pd.DataFrame with same indices\n",
    "# Ensure cov_annual and mu_annual indices align and are in same order\n",
    "cov_annual = cov_annual.reindex(index=mu_annual.index, columns=mu_annual.index).fillna(0)\n",
    "\n",
    "# Create EfficientFrontier object\n",
    "ef = EfficientFrontier(mu_annual, cov_annual, weight_bounds=(0,1))  # no shorting\n",
    "\n",
    "# Max Sharpe (tangency portfolio)\n",
    "raw_weights_sharpe = ef.max_sharpe()\n",
    "weights_sharpe = ef.clean_weights()\n",
    "perf_sharpe = ef.portfolio_performance(verbose=False)  # (expected_return, volatility, sharpe)\n",
    "\n",
    "# Recreate for min vol since ef mutates internal state\n",
    "ef_minvol = EfficientFrontier(mu_annual, cov_annual, weight_bounds=(0,1))\n",
    "raw_weights_minvol = ef_minvol.min_volatility()\n",
    "weights_minvol = ef_minvol.clean_weights()\n",
    "perf_minvol = ef_minvol.portfolio_performance(verbose=False)"
   ]
  },
  {
   "cell_type": "code",
   "execution_count": 15,
   "id": "10e78823",
   "metadata": {},
   "outputs": [
    {
     "name": "stdout",
     "output_type": "stream",
     "text": [
      "\n",
      "Maximum Sharpe Ratio Portfolio (weights):\n",
      "{'BND': 0.5173, 'SPY': 0.4827}\n",
      "Performance (annualized):\n",
      "  Expected return: 8.54%\n",
      "  Volatility (std): 9.56%\n",
      "  Sharpe Ratio: 0.8941\n",
      "\n",
      "Minimum Volatility Portfolio (weights):\n",
      "{'BND': 0.9451, 'SPY': 0.0549}\n",
      "Performance (annualized):\n",
      "  Expected return: 2.73%\n",
      "  Volatility (std): 5.40%\n",
      "  Sharpe Ratio: 0.5050\n"
     ]
    }
   ],
   "source": [
    "# Results & reporting\n",
    "# -------------------------------\n",
    "def pretty_weights(w):\n",
    "    return {k: round(v, 4) for k, v in w.items() if v > 1e-6}\n",
    "\n",
    "print(\"\\nMaximum Sharpe Ratio Portfolio (weights):\")\n",
    "print(pretty_weights(weights_sharpe))\n",
    "print(\"Performance (annualized):\")\n",
    "print(f\"  Expected return: {perf_sharpe[0]:.2%}\")\n",
    "print(f\"  Volatility (std): {perf_sharpe[1]:.2%}\")\n",
    "print(f\"  Sharpe Ratio: {perf_sharpe[2]:.4f}\")\n",
    "\n",
    "print(\"\\nMinimum Volatility Portfolio (weights):\")\n",
    "print(pretty_weights(weights_minvol))\n",
    "print(\"Performance (annualized):\")\n",
    "print(f\"  Expected return: {perf_minvol[0]:.2%}\")\n",
    "print(f\"  Volatility (std): {perf_minvol[1]:.2%}\")\n",
    "print(f\"  Sharpe Ratio: {perf_minvol[2]:.4f}\")"
   ]
  },
  {
   "cell_type": "code",
   "execution_count": 17,
   "id": "1b486d32",
   "metadata": {},
   "outputs": [
    {
     "data": {
      "image/png": "[encoded data removed]",
      "text/plain": [
       "<Figure size 1000x700 with 1 Axes>"
      ]
     },
     "metadata": {},
     "output_type": "display_data"
    }
   ],
   "source": [
    "# -------------------------------\n",
    "# Plot Efficient Frontier\n",
    "# -------------------------------\n",
    "plt.figure(figsize=(10, 7))\n",
    "ax = plt.gca()\n",
    "\n",
    "# Fresh (unsolved) instance for frontier plotting\n",
    "ef_frontier = EfficientFrontier(mu_annual, cov_annual, weight_bounds=(0,1))\n",
    "plotting.plot_efficient_frontier(ef_frontier, show_assets=False, ax=ax)\n",
    "\n",
    "def port_coords(mu, cov, weights):\n",
    "    w = np.array([weights[t] for t in mu.index])\n",
    "    port_ret = float(np.dot(w, mu.values))\n",
    "    port_vol = float(np.sqrt(np.dot(w.T, np.dot(cov.values, w))))\n",
    "    return port_ret, port_vol\n",
    "\n",
    "sharpe_ret, sharpe_vol = port_coords(mu_annual, cov_annual, weights_sharpe)\n",
    "minvol_ret, minvol_vol = port_coords(mu_annual, cov_annual, weights_minvol)\n",
    "\n",
    "ax.scatter(sharpe_vol, sharpe_ret, marker=\"*\", s=200, c=\"green\", label=\"Max Sharpe\")\n",
    "ax.scatter(minvol_vol, minvol_ret, marker=\"o\", s=120, c=\"blue\", label=\"Min Vol\")\n",
    "\n",
    "ax.set_xlabel(\"Annual Volatility (Std Dev)\")\n",
    "ax.set_ylabel(\"Annual Expected Return\")\n",
    "ax.set_title(\"Efficient Frontier - TSLA (forecast) + BND & SPY (historical)\")\n",
    "ax.legend()\n",
    "ax.grid(True)\n",
    "plt.show()"
   ]
  },
  {
   "cell_type": "code",
   "execution_count": 18,
   "id": "1fde6ee5",
   "metadata": {},
   "outputs": [
    {
     "name": "stdout",
     "output_type": "stream",
     "text": [
      "\n",
      "Saved Task 4 results to: ..\\models\\task4_outputs\\task4_results.json\n"
     ]
    }
   ],
   "source": [
    "# -------------------------------\n",
    "# Save outputs\n",
    "# -------------------------------\n",
    "out_dir = os.path.join(MODELS_DIR, \"task4_outputs\")\n",
    "os.makedirs(out_dir, exist_ok=True)\n",
    "\n",
    "results = {\n",
    "    \"expected_returns_annual\": mu_annual.round(6).to_dict(),\n",
    "    \"covariance_annual\": cov_annual.round(6).to_dict(),\n",
    "    \"max_sharpe\": {\n",
    "        \"weights\": pretty_weights(weights_sharpe),\n",
    "        \"performance\": {\n",
    "            \"expected_return\": perf_sharpe[0],\n",
    "            \"volatility\": perf_sharpe[1],\n",
    "            \"sharpe\": perf_sharpe[2]\n",
    "        }\n",
    "    },\n",
    "    \"min_volatility\": {\n",
    "        \"weights\": pretty_weights(weights_minvol),\n",
    "        \"performance\": {\n",
    "            \"expected_return\": perf_minvol[0],\n",
    "            \"volatility\": perf_minvol[1],\n",
    "            \"sharpe\": perf_minvol[2]\n",
    "        }\n",
    "    },\n",
    "    \"metadata_used\": {\n",
    "        \"hist_start\": hist_start,\n",
    "        \"hist_end\": hist_end,\n",
    "        \"forecast_horizon_days\": int(len(forecast_df))\n",
    "    }\n",
    "}\n",
    "\n",
    "results_file = os.path.join(out_dir, \"task4_results.json\")\n",
    "with open(results_file, \"w\") as f:\n",
    "    json.dump(results, f, indent=2)\n",
    "print(f\"\\nSaved Task 4 results to: {results_file}\")"
   ]
  }
 ],
 "metadata": {
  "kernelspec": {
   "display_name": ".venv",
   "language": "python",
   "name": "python3"
  },
  "language_info": {
   "codemirror_mode": {
    "name": "ipython",
    "version": 3
   },
   "file_extension": ".py",
   "mimetype": "text/x-python",
   "name": "python",
   "nbconvert_exporter": "python",
   "pygments_lexer": "ipython3",
   "version": "3.12.10"
  }
 },
 "nbformat": 4,
 "nbformat_minor": 5
}
